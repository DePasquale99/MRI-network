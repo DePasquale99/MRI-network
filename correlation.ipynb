{
 "cells": [
  {
   "cell_type": "markdown",
   "metadata": {},
   "source": [
    "In this script I try some of the possible ways of correlating the segmentation with the nodes communities\n",
    "\n",
    "- By using the communities COM and the segmentation\n",
    "- By using the correlation between the parcellation and the community of provenience\n"
   ]
  },
  {
   "cell_type": "code",
   "execution_count": 1,
   "metadata": {},
   "outputs": [],
   "source": [
    "import nibabel as nib\n",
    "import numpy as np\n",
    "import networkx as nx\n",
    "from skimage.measure import marching_cubes\n",
    "from scipy.spatial import cKDTree\n",
    "import matplotlib.pyplot as plt\n",
    "from mpl_toolkits.mplot3d.art3d import Poly3DCollection\n",
    "import matplotlib.cm as cm\n",
    "import networkx as nx\n",
    "import os\n",
    "import numpy as np\n",
    "from glob import glob\n",
    "import nibabel as nib\n",
    "import nibabel.freesurfer.mghformat as mghf # read mgz images\n",
    "from skimage.morphology import skeletonize_3d\n",
    "from skimage.measure import marching_cubes\n",
    "import matplotlib.pyplot as plt\n",
    "import pandas as pd\n",
    "\n"
   ]
  },
  {
   "cell_type": "code",
   "execution_count": 2,
   "metadata": {},
   "outputs": [],
   "source": [
    "\n",
    "def rescale_coordinates(node_positions, skeleton_coords):\n",
    "    graph_min = node_positions.min(axis=0)\n",
    "    graph_max = node_positions.max(axis=0)\n",
    "    skeleton_min = skeleton_coords.min(axis=0)\n",
    "    skeleton_max = skeleton_coords.max(axis=0)\n",
    "\n",
    "    normalized_node_positions = (\n",
    "        (node_positions - graph_min) / (graph_max - graph_min)\n",
    "    ) * (skeleton_max - skeleton_min) + skeleton_min\n",
    "\n",
    "    return normalized_node_positions"
   ]
  },
  {
   "cell_type": "code",
   "execution_count": null,
   "metadata": {},
   "outputs": [],
   "source": [
    "# Path to the main directory containing the folders with data\n",
    "main_directory = \"PR-graphomics/sequences/\"\n",
    "\n",
    "# List all subfolders inside the main directory\n",
    "folders = [f for f in os.listdir(main_directory) if os.path.isdir(os.path.join(main_directory, f))]\n",
    "folder = folders[10]\n",
    "\n",
    "print(f\"Accessing folder: {folder}\")\n",
    "folder_path = os.path.join(main_directory, folder)\n",
    "    \n",
    "#In this way I add to the address the folder inside the first one\n",
    "folder_path = os.path.join(folder_path, os.listdir(folder_path)[0])\n",
    "#aparc.DKTatlas+aseg.deep.mgz aparc.DKTatlas+aseg.deep.nii.gz\n",
    "image_path = os.path.join(folder_path, 'aparc.DKTatlas+aseg.deep.mgz')\n",
    "vol = mghf.load(image_path)\n",
    "\n",
    "\n",
    "df = pd.read_csv('PR-graphomics/labelmap.csv', sep = ',')\n",
    "df[0:10]"
   ]
  }
 ],
 "metadata": {
  "kernelspec": {
   "display_name": "Python 3",
   "language": "python",
   "name": "python3"
  },
  "language_info": {
   "codemirror_mode": {
    "name": "ipython",
    "version": 3
   },
   "file_extension": ".py",
   "mimetype": "text/x-python",
   "name": "python",
   "nbconvert_exporter": "python",
   "pygments_lexer": "ipython3",
   "version": "3.10.12"
  }
 },
 "nbformat": 4,
 "nbformat_minor": 2
}
